{
 "cells": [
  {
   "cell_type": "code",
   "execution_count": 1,
   "id": "62d31df3-ccf6-4c48-94c6-bfa88cd9728a",
   "metadata": {},
   "outputs": [],
   "source": [
    "## string functions"
   ]
  },
  {
   "cell_type": "code",
   "execution_count": 2,
   "id": "78515cc5-af52-4922-b00b-b9294852a2e6",
   "metadata": {},
   "outputs": [
    {
     "data": {
      "text/plain": [
       "'hell world'"
      ]
     },
     "execution_count": 2,
     "metadata": {},
     "output_type": "execute_result"
    }
   ],
   "source": [
    "str= \"hell world\"\n",
    "str"
   ]
  },
  {
   "cell_type": "code",
   "execution_count": 3,
   "id": "abab7d1c-f89e-4900-b092-1f96fc7fc60f",
   "metadata": {},
   "outputs": [],
   "source": [
    "## conditional statement"
   ]
  },
  {
   "cell_type": "code",
   "execution_count": 5,
   "id": "302bd113-2980-412d-907a-85ef4f9ffdaf",
   "metadata": {},
   "outputs": [
    {
     "name": "stdout",
     "output_type": "stream",
     "text": [
      "Number is positive\n",
      "This statement always executes\n"
     ]
    }
   ],
   "source": [
    "number = 10\n",
    "if number > 0:\n",
    "    print('Number is positive')\n",
    "print('This statement always executes')\n"
   ]
  },
  {
   "cell_type": "code",
   "execution_count": 10,
   "id": "d0557bc8-866a-4dc4-b18f-eff1cd4cfe39",
   "metadata": {},
   "outputs": [
    {
     "name": "stdout",
     "output_type": "stream",
     "text": [
      "false\n"
     ]
    }
   ],
   "source": [
    "a=10\n",
    "if a==5:\n",
    "    print(\"true\")\n",
    "else:\n",
    "    print(\"false\")"
   ]
  },
  {
   "cell_type": "code",
   "execution_count": null,
   "id": "4c7fac63-12d8-4403-a6d8-aac6903b8a51",
   "metadata": {},
   "outputs": [],
   "source": [
    "###loops\n"
   ]
  },
  {
   "cell_type": "code",
   "execution_count": 11,
   "id": "1bfc45f6-65ef-4425-be43-23c526131269",
   "metadata": {},
   "outputs": [
    {
     "name": "stdout",
     "output_type": "stream",
     "text": [
      "helloo world\n",
      "helloo world\n"
     ]
    }
   ],
   "source": [
    "for i in range(2):\n",
    "    print(\"helloo world\")"
   ]
  },
  {
   "cell_type": "code",
   "execution_count": 18,
   "id": "b87e93ed-4479-4b46-b664-0e3e7ed4ba12",
   "metadata": {},
   "outputs": [
    {
     "name": "stdout",
     "output_type": "stream",
     "text": [
      "0\n",
      "2\n",
      "4\n",
      "6\n",
      "8\n"
     ]
    }
   ],
   "source": [
    "for i in range(0,10,2):\n",
    "    print(i)"
   ]
  },
  {
   "cell_type": "code",
   "execution_count": 20,
   "id": "18d95ef2-e523-4a61-8c37-d7f8b8ce36e2",
   "metadata": {},
   "outputs": [
    {
     "name": "stdout",
     "output_type": "stream",
     "text": [
      "2\n",
      "3\n",
      "4\n",
      "5\n",
      "6\n",
      "7\n",
      "8\n",
      "9\n"
     ]
    }
   ],
   "source": [
    "a=2\n",
    "while a<10:\n",
    "    print(a)\n",
    "    a+=1"
   ]
  },
  {
   "cell_type": "code",
   "execution_count": 30,
   "id": "22439bf2-097a-4eb7-93c5-135bd10ed255",
   "metadata": {},
   "outputs": [
    {
     "name": "stdin",
     "output_type": "stream",
     "text": [
      "enter value: 3\n"
     ]
    },
    {
     "name": "stdout",
     "output_type": "stream",
     "text": [
      "012"
     ]
    }
   ],
   "source": [
    "a=int(input(\"enter value:\"))\n",
    "for i in range (a):\n",
    "    print(i,end=\"\")"
   ]
  },
  {
   "cell_type": "code",
   "execution_count": 26,
   "id": "a7e32356-7c4f-453a-93e2-06d6fae87eb8",
   "metadata": {},
   "outputs": [],
   "source": []
  },
  {
   "cell_type": "code",
   "execution_count": null,
   "id": "bb3e2312-550b-4b0e-9e52-717bc7d00f53",
   "metadata": {},
   "outputs": [],
   "source": []
  },
  {
   "cell_type": "code",
   "execution_count": null,
   "id": "8644cbe0-c370-465a-ba91-1ce78d09f95a",
   "metadata": {},
   "outputs": [],
   "source": []
  },
  {
   "cell_type": "code",
   "execution_count": null,
   "id": "bb079add-8689-4156-85b9-7a07334ee04d",
   "metadata": {},
   "outputs": [],
   "source": [
    "## dictionary"
   ]
  },
  {
   "cell_type": "code",
   "execution_count": null,
   "id": "148b8e70-3d51-46cd-8e2a-6daeecfc1117",
   "metadata": {},
   "outputs": [],
   "source": [
    "d={0:\"troll\", 1:\"geek\"}\n",
    "for i in d:\n",
    "    print(i,d[i])    ## traversal in dictionary"
   ]
  },
  {
   "cell_type": "code",
   "execution_count": null,
   "id": "249d87d8-9d9b-4634-9043-ee3352da3158",
   "metadata": {},
   "outputs": [],
   "source": [
    "d[2]=\"hello\"  ## add dictionary"
   ]
  },
  {
   "cell_type": "code",
   "execution_count": null,
   "id": "2a72a88a-e3bf-4818-86e6-6703b47bfc1b",
   "metadata": {},
   "outputs": [],
   "source": [
    "print(d)"
   ]
  },
  {
   "cell_type": "code",
   "execution_count": null,
   "id": "8278ed57-842e-491c-a060-bd357529f848",
   "metadata": {},
   "outputs": [],
   "source": [
    "del d[0]    ## deleting dictionary"
   ]
  },
  {
   "cell_type": "code",
   "execution_count": null,
   "id": "d47b212c-61ee-4209-aa5d-9df73d529356",
   "metadata": {},
   "outputs": [],
   "source": [
    "print(d)"
   ]
  },
  {
   "cell_type": "code",
   "execution_count": null,
   "id": "b7208bdc-8b90-4fe0-a176-8cd81cd3e743",
   "metadata": {},
   "outputs": [],
   "source": [
    "d={0:\"troll\", 1:\"geek\"}\n",
    "e={2:\"hello\", 3:\"world\"}\n",
    "d.update(e)"
   ]
  },
  {
   "cell_type": "code",
   "execution_count": null,
   "id": "62b1e0b6-b84b-4d6d-a91f-e56fe3ac9d85",
   "metadata": {},
   "outputs": [],
   "source": [
    "print(d)"
   ]
  },
  {
   "cell_type": "code",
   "execution_count": null,
   "id": "6595c33d-96a0-4b5d-8ea9-3c56c52d9ed3",
   "metadata": {},
   "outputs": [],
   "source": [
    "d.keys()"
   ]
  },
  {
   "cell_type": "code",
   "execution_count": null,
   "id": "08d3a88b-ff47-4cde-a9c1-64d9f6d9d88f",
   "metadata": {},
   "outputs": [],
   "source": [
    "d.values()"
   ]
  },
  {
   "cell_type": "code",
   "execution_count": null,
   "id": "e3d933e2-b8de-442b-a2eb-0d6f6856b2b5",
   "metadata": {},
   "outputs": [],
   "source": [
    "d.items()"
   ]
  },
  {
   "cell_type": "code",
   "execution_count": null,
   "id": "7380cfd8-aef1-44ab-acc2-3052a4b56075",
   "metadata": {},
   "outputs": [],
   "source": [
    "print(1 in d)   ## in operator used to find the 1 available in key"
   ]
  },
  {
   "cell_type": "code",
   "execution_count": null,
   "id": "6073ee11-fcbc-448f-adc2-d0a258216162",
   "metadata": {},
   "outputs": [],
   "source": [
    "dic={1:\"a\",2:\"b\"}\n",
    "lst=list(dic)\n",
    "print(lst)"
   ]
  },
  {
   "cell_type": "code",
   "execution_count": null,
   "id": "dbec75da-7f8a-4f67-95ad-9e2bf784a4a8",
   "metadata": {},
   "outputs": [],
   "source": []
  },
  {
   "cell_type": "code",
   "execution_count": null,
   "id": "0b0b126b-c2ee-4295-9f0c-cdeceba323b6",
   "metadata": {},
   "outputs": [],
   "source": []
  },
  {
   "cell_type": "code",
   "execution_count": null,
   "id": "2110e3a6-e495-4334-8ca2-35156cdc4cb4",
   "metadata": {},
   "outputs": [],
   "source": []
  },
  {
   "cell_type": "code",
   "execution_count": null,
   "id": "f8d2c2de-eddb-4255-bac9-ecb9a3980bf9",
   "metadata": {},
   "outputs": [],
   "source": [
    "## functions"
   ]
  },
  {
   "cell_type": "code",
   "execution_count": null,
   "id": "4e669ab5-523e-4aa0-949f-4da88343990e",
   "metadata": {},
   "outputs": [],
   "source": [
    "def add():\n",
    "    a= int(input(\"enter value 1: \"))\n",
    "    b=int(input(\"enter value 2: \"))\n",
    "    return a+b            ## non void function we return a+b"
   ]
  },
  {
   "cell_type": "code",
   "execution_count": null,
   "id": "e77b50f0-850c-42b3-b5d8-9d0eac0eee46",
   "metadata": {},
   "outputs": [],
   "source": [
    "print(\"total:\", add())"
   ]
  },
  {
   "cell_type": "code",
   "execution_count": null,
   "id": "9531f158-cdfa-449c-b526-112ab59ed92e",
   "metadata": {},
   "outputs": [],
   "source": []
  },
  {
   "cell_type": "code",
   "execution_count": null,
   "id": "a876a26b-7d09-4caf-8cde-94aaf57b4ac5",
   "metadata": {},
   "outputs": [],
   "source": []
  },
  {
   "cell_type": "code",
   "execution_count": null,
   "id": "ac49520b-c39b-4477-a8c0-76522de74d8b",
   "metadata": {},
   "outputs": [],
   "source": []
  }
 ],
 "metadata": {
  "kernelspec": {
   "display_name": "Python 3 (ipykernel)",
   "language": "python",
   "name": "python3"
  },
  "language_info": {
   "codemirror_mode": {
    "name": "ipython",
    "version": 3
   },
   "file_extension": ".py",
   "mimetype": "text/x-python",
   "name": "python",
   "nbconvert_exporter": "python",
   "pygments_lexer": "ipython3",
   "version": "3.12.2"
  }
 },
 "nbformat": 4,
 "nbformat_minor": 5
}
